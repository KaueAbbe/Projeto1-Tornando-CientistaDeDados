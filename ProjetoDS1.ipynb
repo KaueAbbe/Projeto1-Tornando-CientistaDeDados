{
 "cells": [
  {
   "cell_type": "markdown",
   "id": "e9032fb6",
   "metadata": {},
   "source": [
    "# Projeto: O que é necessário para aprender Ciência de Dados?\n",
    "\n",
    "* Autor: Kaue Hermann\n",
    "* Objetivo Geral: Responder o que é necessário para aprender ciência de dados. \n",
    "* Origem dos Dados: Pesquisa realizada pelo Kaggle e disponibilizada para competição. Pode ser acessado [AQUI]()\n",
    "\n",
    "# Bibliotecas e importando dados"
   ]
  },
  {
   "cell_type": "code",
   "execution_count": 1,
   "id": "6ef7c798",
   "metadata": {},
   "outputs": [],
   "source": [
    "import pandas as pd\n",
    "import numpy as np\n",
    "import seaborn as sns\n",
    "import matplotlib.pyplot as plt\n",
    "from plotly.subplots import make_subplots\n",
    "import plotly.graph_objects as go\n",
    "import plotly.express as px"
   ]
  },
  {
   "cell_type": "code",
   "execution_count": 70,
   "id": "e45317c0",
   "metadata": {},
   "outputs": [],
   "source": [
    "# Area de Função\n",
    "def organizador(q, final):\n",
    "    Qt = 833 - dadosB[[q + str(i) for i in range(1,final) ]].isna().sum()\n",
    "    return  Qt\n",
    "def altera_nomes(lista_nomes):\n",
    "    for i in range(0, len(lista_nomes)):\n",
    "        print(lista_nomes[i])\n",
    "        nome = str(input('MUde o nome:'))\n",
    "        if nome != '0':\n",
    "            lista_nomes[i] = nome\n",
    "    return lista_nomes\n",
    "        \n",
    "    \n",
    "def graf(dados, cor_final, Ltexto, Lx, Ly, Titulo, Cy, nome):\n",
    "    Qg = dados.reset_index()\n",
    "    print(Qg)\n",
    "    cores = ['gray'] * 15\n",
    "    for i in range(0,cor_final):\n",
    "        cores[i] = 'darkblue'\n",
    "\n",
    "    f, ax = plt.subplots(figsize=(12, 5))\n",
    "\n",
    "    sns.barplot(x='index', y= Cy, data=Qg,label=\"Total\", palette=cores)\n",
    "\n",
    "\n",
    "    ax.set_xlabel(Lx, fontsize = 14)\n",
    "    ax.set_xticklabels(labels = Qg['index'], rotation=30)\n",
    "    ax.set_ylabel(Ly, fontsize = 14)\n",
    "    ax.set_title(Titulo, fontsize = 18)\n",
    "    ax.bar_label(ax.containers[0])\n",
    "    ax.text(Ltexto[0], Ltexto[1],Ltexto[2], fontsize=12)\n",
    "\n",
    "    plt.savefig('imagens/' + nome)\n",
    "    \n",
    "def multiplas_colunas(Ncol, cor_final, Ltexto, Lx, Ly, Titulo, Cy, nome, altera_nome = False):\n",
    "    data_warehouse = [col for col in dadosB.columns if col.startswith(Ncol)]\n",
    "    column_name = dadosB[data_warehouse]\n",
    "    final = column_name.melt(var_name = 'title', value_vars = column_name)\n",
    "    final.drop(['title'], axis=1, inplace = True)\n",
    "    final.dropna(inplace = True)\n",
    "    final = final.groupby(['value']).size().reset_index().rename(\n",
    "        columns={'value': 'valor', 0 : 'Contagem'}).sort_values(by = 'Contagem', ascending=False)\n",
    "    if altera_nome == True:\n",
    "        listaN = altera_nomes(list(final.valor))\n",
    "        final.valor = listaN\n",
    "    \n",
    "    \n",
    "    cores = ['gray'] * 15\n",
    "    for i in range(0,cor_final):\n",
    "        cores[i] = 'darkblue'\n",
    "\n",
    "    f, ax = plt.subplots(figsize=(12, 5))\n",
    "\n",
    "    sns.barplot(x='valor', y= 'Contagem', data=final,label=\"Total\", palette=cores)\n",
    "\n",
    "\n",
    "    ax.set_xlabel(Lx, fontsize = 14)\n",
    "    ax.set_xticklabels(labels = final.valor, rotation=30)\n",
    "    ax.set_ylabel(Ly, fontsize = 14)\n",
    "    ax.set_title(Titulo, fontsize = 18)\n",
    "    ax.bar_label(ax.containers[0])\n",
    "    ax.text(Ltexto[0], Ltexto[1],Ltexto[2], fontsize=12)\n",
    "\n",
    "    plt.savefig('imagens/' + nome)\n",
    "    \n",
    "    "
   ]
  },
  {
   "cell_type": "code",
   "execution_count": 3,
   "id": "8f438a27",
   "metadata": {},
   "outputs": [
    {
     "name": "stderr",
     "output_type": "stream",
     "text": [
      "C:\\Users\\kauea\\AppData\\Local\\Temp\\ipykernel_28420\\2177365934.py:1: DtypeWarning: Columns (0,208,225,255,257,260,270,271,277) have mixed types. Specify dtype option on import or set low_memory=False.\n",
      "  dados = pd.read_csv('kaggle_survey_2022_responses.csv')\n"
     ]
    },
    {
     "data": {
      "text/html": [
       "<div>\n",
       "<style scoped>\n",
       "    .dataframe tbody tr th:only-of-type {\n",
       "        vertical-align: middle;\n",
       "    }\n",
       "\n",
       "    .dataframe tbody tr th {\n",
       "        vertical-align: top;\n",
       "    }\n",
       "\n",
       "    .dataframe thead th {\n",
       "        text-align: right;\n",
       "    }\n",
       "</style>\n",
       "<table border=\"1\" class=\"dataframe\">\n",
       "  <thead>\n",
       "    <tr style=\"text-align: right;\">\n",
       "      <th></th>\n",
       "      <th>Duration (in seconds)</th>\n",
       "      <th>Q2</th>\n",
       "      <th>Q3</th>\n",
       "      <th>Q4</th>\n",
       "      <th>Q5</th>\n",
       "      <th>Q6_1</th>\n",
       "      <th>Q6_2</th>\n",
       "      <th>Q6_3</th>\n",
       "      <th>Q6_4</th>\n",
       "      <th>Q6_5</th>\n",
       "      <th>...</th>\n",
       "      <th>Q44_3</th>\n",
       "      <th>Q44_4</th>\n",
       "      <th>Q44_5</th>\n",
       "      <th>Q44_6</th>\n",
       "      <th>Q44_7</th>\n",
       "      <th>Q44_8</th>\n",
       "      <th>Q44_9</th>\n",
       "      <th>Q44_10</th>\n",
       "      <th>Q44_11</th>\n",
       "      <th>Q44_12</th>\n",
       "    </tr>\n",
       "  </thead>\n",
       "  <tbody>\n",
       "    <tr>\n",
       "      <th>0</th>\n",
       "      <td>Duration (in seconds)</td>\n",
       "      <td>What is your age (# years)?</td>\n",
       "      <td>What is your gender? - Selected Choice</td>\n",
       "      <td>In which country do you currently reside?</td>\n",
       "      <td>Are you currently a student? (high school, uni...</td>\n",
       "      <td>On which platforms have you begun or completed...</td>\n",
       "      <td>On which platforms have you begun or completed...</td>\n",
       "      <td>On which platforms have you begun or completed...</td>\n",
       "      <td>On which platforms have you begun or completed...</td>\n",
       "      <td>On which platforms have you begun or completed...</td>\n",
       "      <td>...</td>\n",
       "      <td>Who/what are your favorite media sources that ...</td>\n",
       "      <td>Who/what are your favorite media sources that ...</td>\n",
       "      <td>Who/what are your favorite media sources that ...</td>\n",
       "      <td>Who/what are your favorite media sources that ...</td>\n",
       "      <td>Who/what are your favorite media sources that ...</td>\n",
       "      <td>Who/what are your favorite media sources that ...</td>\n",
       "      <td>Who/what are your favorite media sources that ...</td>\n",
       "      <td>Who/what are your favorite media sources that ...</td>\n",
       "      <td>Who/what are your favorite media sources that ...</td>\n",
       "      <td>Who/what are your favorite media sources that ...</td>\n",
       "    </tr>\n",
       "    <tr>\n",
       "      <th>1</th>\n",
       "      <td>121</td>\n",
       "      <td>30-34</td>\n",
       "      <td>Man</td>\n",
       "      <td>India</td>\n",
       "      <td>No</td>\n",
       "      <td>NaN</td>\n",
       "      <td>NaN</td>\n",
       "      <td>NaN</td>\n",
       "      <td>NaN</td>\n",
       "      <td>NaN</td>\n",
       "      <td>...</td>\n",
       "      <td>NaN</td>\n",
       "      <td>NaN</td>\n",
       "      <td>NaN</td>\n",
       "      <td>NaN</td>\n",
       "      <td>NaN</td>\n",
       "      <td>NaN</td>\n",
       "      <td>NaN</td>\n",
       "      <td>NaN</td>\n",
       "      <td>NaN</td>\n",
       "      <td>NaN</td>\n",
       "    </tr>\n",
       "    <tr>\n",
       "      <th>2</th>\n",
       "      <td>462</td>\n",
       "      <td>30-34</td>\n",
       "      <td>Man</td>\n",
       "      <td>Algeria</td>\n",
       "      <td>No</td>\n",
       "      <td>NaN</td>\n",
       "      <td>NaN</td>\n",
       "      <td>NaN</td>\n",
       "      <td>NaN</td>\n",
       "      <td>NaN</td>\n",
       "      <td>...</td>\n",
       "      <td>NaN</td>\n",
       "      <td>NaN</td>\n",
       "      <td>NaN</td>\n",
       "      <td>NaN</td>\n",
       "      <td>NaN</td>\n",
       "      <td>NaN</td>\n",
       "      <td>NaN</td>\n",
       "      <td>NaN</td>\n",
       "      <td>NaN</td>\n",
       "      <td>NaN</td>\n",
       "    </tr>\n",
       "    <tr>\n",
       "      <th>3</th>\n",
       "      <td>293</td>\n",
       "      <td>18-21</td>\n",
       "      <td>Man</td>\n",
       "      <td>Egypt</td>\n",
       "      <td>Yes</td>\n",
       "      <td>Coursera</td>\n",
       "      <td>edX</td>\n",
       "      <td>NaN</td>\n",
       "      <td>DataCamp</td>\n",
       "      <td>NaN</td>\n",
       "      <td>...</td>\n",
       "      <td>NaN</td>\n",
       "      <td>Kaggle (notebooks, forums, etc)</td>\n",
       "      <td>NaN</td>\n",
       "      <td>YouTube (Kaggle YouTube, Cloud AI Adventures, ...</td>\n",
       "      <td>Podcasts (Chai Time Data Science, O’Reilly Dat...</td>\n",
       "      <td>NaN</td>\n",
       "      <td>NaN</td>\n",
       "      <td>NaN</td>\n",
       "      <td>NaN</td>\n",
       "      <td>NaN</td>\n",
       "    </tr>\n",
       "    <tr>\n",
       "      <th>4</th>\n",
       "      <td>851</td>\n",
       "      <td>55-59</td>\n",
       "      <td>Man</td>\n",
       "      <td>France</td>\n",
       "      <td>No</td>\n",
       "      <td>Coursera</td>\n",
       "      <td>NaN</td>\n",
       "      <td>Kaggle Learn Courses</td>\n",
       "      <td>NaN</td>\n",
       "      <td>NaN</td>\n",
       "      <td>...</td>\n",
       "      <td>NaN</td>\n",
       "      <td>Kaggle (notebooks, forums, etc)</td>\n",
       "      <td>Course Forums (forums.fast.ai, Coursera forums...</td>\n",
       "      <td>NaN</td>\n",
       "      <td>NaN</td>\n",
       "      <td>Blogs (Towards Data Science, Analytics Vidhya,...</td>\n",
       "      <td>NaN</td>\n",
       "      <td>NaN</td>\n",
       "      <td>NaN</td>\n",
       "      <td>NaN</td>\n",
       "    </tr>\n",
       "  </tbody>\n",
       "</table>\n",
       "<p>5 rows × 296 columns</p>\n",
       "</div>"
      ],
      "text/plain": [
       "   Duration (in seconds)                           Q2  \\\n",
       "0  Duration (in seconds)  What is your age (# years)?   \n",
       "1                    121                        30-34   \n",
       "2                    462                        30-34   \n",
       "3                    293                        18-21   \n",
       "4                    851                        55-59   \n",
       "\n",
       "                                       Q3  \\\n",
       "0  What is your gender? - Selected Choice   \n",
       "1                                     Man   \n",
       "2                                     Man   \n",
       "3                                     Man   \n",
       "4                                     Man   \n",
       "\n",
       "                                          Q4  \\\n",
       "0  In which country do you currently reside?   \n",
       "1                                      India   \n",
       "2                                    Algeria   \n",
       "3                                      Egypt   \n",
       "4                                     France   \n",
       "\n",
       "                                                  Q5  \\\n",
       "0  Are you currently a student? (high school, uni...   \n",
       "1                                                 No   \n",
       "2                                                 No   \n",
       "3                                                Yes   \n",
       "4                                                 No   \n",
       "\n",
       "                                                Q6_1  \\\n",
       "0  On which platforms have you begun or completed...   \n",
       "1                                                NaN   \n",
       "2                                                NaN   \n",
       "3                                           Coursera   \n",
       "4                                           Coursera   \n",
       "\n",
       "                                                Q6_2  \\\n",
       "0  On which platforms have you begun or completed...   \n",
       "1                                                NaN   \n",
       "2                                                NaN   \n",
       "3                                                edX   \n",
       "4                                                NaN   \n",
       "\n",
       "                                                Q6_3  \\\n",
       "0  On which platforms have you begun or completed...   \n",
       "1                                                NaN   \n",
       "2                                                NaN   \n",
       "3                                                NaN   \n",
       "4                               Kaggle Learn Courses   \n",
       "\n",
       "                                                Q6_4  \\\n",
       "0  On which platforms have you begun or completed...   \n",
       "1                                                NaN   \n",
       "2                                                NaN   \n",
       "3                                           DataCamp   \n",
       "4                                                NaN   \n",
       "\n",
       "                                                Q6_5  ...  \\\n",
       "0  On which platforms have you begun or completed...  ...   \n",
       "1                                                NaN  ...   \n",
       "2                                                NaN  ...   \n",
       "3                                                NaN  ...   \n",
       "4                                                NaN  ...   \n",
       "\n",
       "                                               Q44_3  \\\n",
       "0  Who/what are your favorite media sources that ...   \n",
       "1                                                NaN   \n",
       "2                                                NaN   \n",
       "3                                                NaN   \n",
       "4                                                NaN   \n",
       "\n",
       "                                               Q44_4  \\\n",
       "0  Who/what are your favorite media sources that ...   \n",
       "1                                                NaN   \n",
       "2                                                NaN   \n",
       "3                    Kaggle (notebooks, forums, etc)   \n",
       "4                    Kaggle (notebooks, forums, etc)   \n",
       "\n",
       "                                               Q44_5  \\\n",
       "0  Who/what are your favorite media sources that ...   \n",
       "1                                                NaN   \n",
       "2                                                NaN   \n",
       "3                                                NaN   \n",
       "4  Course Forums (forums.fast.ai, Coursera forums...   \n",
       "\n",
       "                                               Q44_6  \\\n",
       "0  Who/what are your favorite media sources that ...   \n",
       "1                                                NaN   \n",
       "2                                                NaN   \n",
       "3  YouTube (Kaggle YouTube, Cloud AI Adventures, ...   \n",
       "4                                                NaN   \n",
       "\n",
       "                                               Q44_7  \\\n",
       "0  Who/what are your favorite media sources that ...   \n",
       "1                                                NaN   \n",
       "2                                                NaN   \n",
       "3  Podcasts (Chai Time Data Science, O’Reilly Dat...   \n",
       "4                                                NaN   \n",
       "\n",
       "                                               Q44_8  \\\n",
       "0  Who/what are your favorite media sources that ...   \n",
       "1                                                NaN   \n",
       "2                                                NaN   \n",
       "3                                                NaN   \n",
       "4  Blogs (Towards Data Science, Analytics Vidhya,...   \n",
       "\n",
       "                                               Q44_9  \\\n",
       "0  Who/what are your favorite media sources that ...   \n",
       "1                                                NaN   \n",
       "2                                                NaN   \n",
       "3                                                NaN   \n",
       "4                                                NaN   \n",
       "\n",
       "                                              Q44_10  \\\n",
       "0  Who/what are your favorite media sources that ...   \n",
       "1                                                NaN   \n",
       "2                                                NaN   \n",
       "3                                                NaN   \n",
       "4                                                NaN   \n",
       "\n",
       "                                              Q44_11  \\\n",
       "0  Who/what are your favorite media sources that ...   \n",
       "1                                                NaN   \n",
       "2                                                NaN   \n",
       "3                                                NaN   \n",
       "4                                                NaN   \n",
       "\n",
       "                                              Q44_12  \n",
       "0  Who/what are your favorite media sources that ...  \n",
       "1                                                NaN  \n",
       "2                                                NaN  \n",
       "3                                                NaN  \n",
       "4                                                NaN  \n",
       "\n",
       "[5 rows x 296 columns]"
      ]
     },
     "execution_count": 3,
     "metadata": {},
     "output_type": "execute_result"
    }
   ],
   "source": [
    "dados = pd.read_csv('kaggle_survey_2022_responses.csv')\n",
    "dados.head()"
   ]
  },
  {
   "cell_type": "code",
   "execution_count": 4,
   "id": "711e6d28",
   "metadata": {},
   "outputs": [
    {
     "data": {
      "text/html": [
       "<div>\n",
       "<style scoped>\n",
       "    .dataframe tbody tr th:only-of-type {\n",
       "        vertical-align: middle;\n",
       "    }\n",
       "\n",
       "    .dataframe tbody tr th {\n",
       "        vertical-align: top;\n",
       "    }\n",
       "\n",
       "    .dataframe thead th {\n",
       "        text-align: right;\n",
       "    }\n",
       "</style>\n",
       "<table border=\"1\" class=\"dataframe\">\n",
       "  <thead>\n",
       "    <tr style=\"text-align: right;\">\n",
       "      <th></th>\n",
       "      <th>Duration (in seconds)</th>\n",
       "      <th>Q2</th>\n",
       "      <th>Q3</th>\n",
       "      <th>Q4</th>\n",
       "      <th>Q5</th>\n",
       "      <th>Q6_1</th>\n",
       "      <th>Q6_2</th>\n",
       "      <th>Q6_3</th>\n",
       "      <th>Q6_4</th>\n",
       "      <th>Q6_5</th>\n",
       "      <th>...</th>\n",
       "      <th>Q44_3</th>\n",
       "      <th>Q44_4</th>\n",
       "      <th>Q44_5</th>\n",
       "      <th>Q44_6</th>\n",
       "      <th>Q44_7</th>\n",
       "      <th>Q44_8</th>\n",
       "      <th>Q44_9</th>\n",
       "      <th>Q44_10</th>\n",
       "      <th>Q44_11</th>\n",
       "      <th>Q44_12</th>\n",
       "    </tr>\n",
       "  </thead>\n",
       "  <tbody>\n",
       "    <tr>\n",
       "      <th>0</th>\n",
       "      <td>2481</td>\n",
       "      <td>25-29</td>\n",
       "      <td>Man</td>\n",
       "      <td>Brazil</td>\n",
       "      <td>No</td>\n",
       "      <td>NaN</td>\n",
       "      <td>NaN</td>\n",
       "      <td>NaN</td>\n",
       "      <td>NaN</td>\n",
       "      <td>NaN</td>\n",
       "      <td>...</td>\n",
       "      <td>Reddit (r/machinelearning, etc)</td>\n",
       "      <td>NaN</td>\n",
       "      <td>NaN</td>\n",
       "      <td>NaN</td>\n",
       "      <td>NaN</td>\n",
       "      <td>NaN</td>\n",
       "      <td>Journal Publications (peer-reviewed journals, ...</td>\n",
       "      <td>NaN</td>\n",
       "      <td>NaN</td>\n",
       "      <td>NaN</td>\n",
       "    </tr>\n",
       "    <tr>\n",
       "      <th>1</th>\n",
       "      <td>548</td>\n",
       "      <td>45-49</td>\n",
       "      <td>Man</td>\n",
       "      <td>Brazil</td>\n",
       "      <td>Yes</td>\n",
       "      <td>NaN</td>\n",
       "      <td>NaN</td>\n",
       "      <td>NaN</td>\n",
       "      <td>NaN</td>\n",
       "      <td>NaN</td>\n",
       "      <td>...</td>\n",
       "      <td>NaN</td>\n",
       "      <td>NaN</td>\n",
       "      <td>NaN</td>\n",
       "      <td>YouTube (Kaggle YouTube, Cloud AI Adventures, ...</td>\n",
       "      <td>NaN</td>\n",
       "      <td>NaN</td>\n",
       "      <td>NaN</td>\n",
       "      <td>NaN</td>\n",
       "      <td>NaN</td>\n",
       "      <td>NaN</td>\n",
       "    </tr>\n",
       "    <tr>\n",
       "      <th>2</th>\n",
       "      <td>41827</td>\n",
       "      <td>35-39</td>\n",
       "      <td>Man</td>\n",
       "      <td>Brazil</td>\n",
       "      <td>Yes</td>\n",
       "      <td>Coursera</td>\n",
       "      <td>NaN</td>\n",
       "      <td>NaN</td>\n",
       "      <td>NaN</td>\n",
       "      <td>NaN</td>\n",
       "      <td>...</td>\n",
       "      <td>NaN</td>\n",
       "      <td>Kaggle (notebooks, forums, etc)</td>\n",
       "      <td>Course Forums (forums.fast.ai, Coursera forums...</td>\n",
       "      <td>NaN</td>\n",
       "      <td>NaN</td>\n",
       "      <td>NaN</td>\n",
       "      <td>NaN</td>\n",
       "      <td>NaN</td>\n",
       "      <td>NaN</td>\n",
       "      <td>Other</td>\n",
       "    </tr>\n",
       "    <tr>\n",
       "      <th>3</th>\n",
       "      <td>179</td>\n",
       "      <td>45-49</td>\n",
       "      <td>Man</td>\n",
       "      <td>Brazil</td>\n",
       "      <td>Yes</td>\n",
       "      <td>Coursera</td>\n",
       "      <td>NaN</td>\n",
       "      <td>NaN</td>\n",
       "      <td>NaN</td>\n",
       "      <td>NaN</td>\n",
       "      <td>...</td>\n",
       "      <td>NaN</td>\n",
       "      <td>NaN</td>\n",
       "      <td>NaN</td>\n",
       "      <td>NaN</td>\n",
       "      <td>NaN</td>\n",
       "      <td>NaN</td>\n",
       "      <td>NaN</td>\n",
       "      <td>NaN</td>\n",
       "      <td>NaN</td>\n",
       "      <td>NaN</td>\n",
       "    </tr>\n",
       "    <tr>\n",
       "      <th>4</th>\n",
       "      <td>394</td>\n",
       "      <td>25-29</td>\n",
       "      <td>Man</td>\n",
       "      <td>Brazil</td>\n",
       "      <td>Yes</td>\n",
       "      <td>Coursera</td>\n",
       "      <td>edX</td>\n",
       "      <td>Kaggle Learn Courses</td>\n",
       "      <td>DataCamp</td>\n",
       "      <td>Fast.ai</td>\n",
       "      <td>...</td>\n",
       "      <td>NaN</td>\n",
       "      <td>Kaggle (notebooks, forums, etc)</td>\n",
       "      <td>Course Forums (forums.fast.ai, Coursera forums...</td>\n",
       "      <td>YouTube (Kaggle YouTube, Cloud AI Adventures, ...</td>\n",
       "      <td>NaN</td>\n",
       "      <td>Blogs (Towards Data Science, Analytics Vidhya,...</td>\n",
       "      <td>Journal Publications (peer-reviewed journals, ...</td>\n",
       "      <td>NaN</td>\n",
       "      <td>NaN</td>\n",
       "      <td>NaN</td>\n",
       "    </tr>\n",
       "  </tbody>\n",
       "</table>\n",
       "<p>5 rows × 296 columns</p>\n",
       "</div>"
      ],
      "text/plain": [
       "  Duration (in seconds)     Q2   Q3      Q4   Q5      Q6_1 Q6_2  \\\n",
       "0                  2481  25-29  Man  Brazil   No       NaN  NaN   \n",
       "1                   548  45-49  Man  Brazil  Yes       NaN  NaN   \n",
       "2                 41827  35-39  Man  Brazil  Yes  Coursera  NaN   \n",
       "3                   179  45-49  Man  Brazil  Yes  Coursera  NaN   \n",
       "4                   394  25-29  Man  Brazil  Yes  Coursera  edX   \n",
       "\n",
       "                   Q6_3      Q6_4     Q6_5  ...  \\\n",
       "0                   NaN       NaN      NaN  ...   \n",
       "1                   NaN       NaN      NaN  ...   \n",
       "2                   NaN       NaN      NaN  ...   \n",
       "3                   NaN       NaN      NaN  ...   \n",
       "4  Kaggle Learn Courses  DataCamp  Fast.ai  ...   \n",
       "\n",
       "                             Q44_3                            Q44_4  \\\n",
       "0  Reddit (r/machinelearning, etc)                              NaN   \n",
       "1                              NaN                              NaN   \n",
       "2                              NaN  Kaggle (notebooks, forums, etc)   \n",
       "3                              NaN                              NaN   \n",
       "4                              NaN  Kaggle (notebooks, forums, etc)   \n",
       "\n",
       "                                               Q44_5  \\\n",
       "0                                                NaN   \n",
       "1                                                NaN   \n",
       "2  Course Forums (forums.fast.ai, Coursera forums...   \n",
       "3                                                NaN   \n",
       "4  Course Forums (forums.fast.ai, Coursera forums...   \n",
       "\n",
       "                                               Q44_6 Q44_7  \\\n",
       "0                                                NaN   NaN   \n",
       "1  YouTube (Kaggle YouTube, Cloud AI Adventures, ...   NaN   \n",
       "2                                                NaN   NaN   \n",
       "3                                                NaN   NaN   \n",
       "4  YouTube (Kaggle YouTube, Cloud AI Adventures, ...   NaN   \n",
       "\n",
       "                                               Q44_8  \\\n",
       "0                                                NaN   \n",
       "1                                                NaN   \n",
       "2                                                NaN   \n",
       "3                                                NaN   \n",
       "4  Blogs (Towards Data Science, Analytics Vidhya,...   \n",
       "\n",
       "                                               Q44_9 Q44_10 Q44_11 Q44_12  \n",
       "0  Journal Publications (peer-reviewed journals, ...    NaN    NaN    NaN  \n",
       "1                                                NaN    NaN    NaN    NaN  \n",
       "2                                                NaN    NaN    NaN  Other  \n",
       "3                                                NaN    NaN    NaN    NaN  \n",
       "4  Journal Publications (peer-reviewed journals, ...    NaN    NaN    NaN  \n",
       "\n",
       "[5 rows x 296 columns]"
      ]
     },
     "execution_count": 4,
     "metadata": {},
     "output_type": "execute_result"
    }
   ],
   "source": [
    "dadosB = dados[dados.Q4 == 'Brazil']\n",
    "dadosB = dadosB.reset_index(drop=True)\n",
    "dadosB.head()"
   ]
  },
  {
   "cell_type": "markdown",
   "id": "795a314e",
   "metadata": {},
   "source": [
    "## Organizando os dados(1 - 10)"
   ]
  },
  {
   "cell_type": "code",
   "execution_count": 5,
   "id": "5a20e08c",
   "metadata": {},
   "outputs": [
    {
     "data": {
      "text/html": [
       "<div>\n",
       "<style scoped>\n",
       "    .dataframe tbody tr th:only-of-type {\n",
       "        vertical-align: middle;\n",
       "    }\n",
       "\n",
       "    .dataframe tbody tr th {\n",
       "        vertical-align: top;\n",
       "    }\n",
       "\n",
       "    .dataframe thead th {\n",
       "        text-align: right;\n",
       "    }\n",
       "</style>\n",
       "<table border=\"1\" class=\"dataframe\">\n",
       "  <thead>\n",
       "    <tr style=\"text-align: right;\">\n",
       "      <th></th>\n",
       "      <th>Duration (in seconds)</th>\n",
       "      <th>Q2</th>\n",
       "      <th>Q3</th>\n",
       "      <th>Q4</th>\n",
       "      <th>Q5</th>\n",
       "      <th>Q6_1</th>\n",
       "      <th>Q6_2</th>\n",
       "      <th>Q6_3</th>\n",
       "      <th>Q6_4</th>\n",
       "      <th>Q6_5</th>\n",
       "      <th>...</th>\n",
       "      <th>Q44_3</th>\n",
       "      <th>Q44_4</th>\n",
       "      <th>Q44_5</th>\n",
       "      <th>Q44_6</th>\n",
       "      <th>Q44_7</th>\n",
       "      <th>Q44_8</th>\n",
       "      <th>Q44_9</th>\n",
       "      <th>Q44_10</th>\n",
       "      <th>Q44_11</th>\n",
       "      <th>Q44_12</th>\n",
       "    </tr>\n",
       "  </thead>\n",
       "  <tbody>\n",
       "    <tr>\n",
       "      <th>0</th>\n",
       "      <td>2481</td>\n",
       "      <td>25-29</td>\n",
       "      <td>Man</td>\n",
       "      <td>Brazil</td>\n",
       "      <td>No</td>\n",
       "      <td>NaN</td>\n",
       "      <td>NaN</td>\n",
       "      <td>NaN</td>\n",
       "      <td>NaN</td>\n",
       "      <td>NaN</td>\n",
       "      <td>...</td>\n",
       "      <td>Reddit (r/machinelearning, etc)</td>\n",
       "      <td>NaN</td>\n",
       "      <td>NaN</td>\n",
       "      <td>NaN</td>\n",
       "      <td>NaN</td>\n",
       "      <td>NaN</td>\n",
       "      <td>Journal Publications (peer-reviewed journals, ...</td>\n",
       "      <td>NaN</td>\n",
       "      <td>NaN</td>\n",
       "      <td>NaN</td>\n",
       "    </tr>\n",
       "  </tbody>\n",
       "</table>\n",
       "<p>1 rows × 296 columns</p>\n",
       "</div>"
      ],
      "text/plain": [
       "  Duration (in seconds)     Q2   Q3      Q4  Q5 Q6_1 Q6_2 Q6_3 Q6_4 Q6_5  ...  \\\n",
       "0                  2481  25-29  Man  Brazil  No  NaN  NaN  NaN  NaN  NaN  ...   \n",
       "\n",
       "                             Q44_3 Q44_4 Q44_5 Q44_6 Q44_7 Q44_8  \\\n",
       "0  Reddit (r/machinelearning, etc)   NaN   NaN   NaN   NaN   NaN   \n",
       "\n",
       "                                               Q44_9 Q44_10 Q44_11 Q44_12  \n",
       "0  Journal Publications (peer-reviewed journals, ...    NaN    NaN    NaN  \n",
       "\n",
       "[1 rows x 296 columns]"
      ]
     },
     "execution_count": 5,
     "metadata": {},
     "output_type": "execute_result"
    }
   ],
   "source": [
    "dadosB2 = dadosB.copy()\n",
    "dadosB2.head(1)"
   ]
  },
  {
   "cell_type": "code",
   "execution_count": 6,
   "id": "7a6de939",
   "metadata": {},
   "outputs": [
    {
     "data": {
      "text/html": [
       "<div>\n",
       "<style scoped>\n",
       "    .dataframe tbody tr th:only-of-type {\n",
       "        vertical-align: middle;\n",
       "    }\n",
       "\n",
       "    .dataframe tbody tr th {\n",
       "        vertical-align: top;\n",
       "    }\n",
       "\n",
       "    .dataframe thead th {\n",
       "        text-align: right;\n",
       "    }\n",
       "</style>\n",
       "<table border=\"1\" class=\"dataframe\">\n",
       "  <thead>\n",
       "    <tr style=\"text-align: right;\">\n",
       "      <th></th>\n",
       "      <th>Q2</th>\n",
       "    </tr>\n",
       "  </thead>\n",
       "  <tbody>\n",
       "    <tr>\n",
       "      <th>25-29</th>\n",
       "      <td>16.69</td>\n",
       "    </tr>\n",
       "    <tr>\n",
       "      <th>30-34</th>\n",
       "      <td>16.21</td>\n",
       "    </tr>\n",
       "    <tr>\n",
       "      <th>35-39</th>\n",
       "      <td>15.73</td>\n",
       "    </tr>\n",
       "    <tr>\n",
       "      <th>40-44</th>\n",
       "      <td>12.00</td>\n",
       "    </tr>\n",
       "    <tr>\n",
       "      <th>22-24</th>\n",
       "      <td>9.72</td>\n",
       "    </tr>\n",
       "    <tr>\n",
       "      <th>45-49</th>\n",
       "      <td>8.28</td>\n",
       "    </tr>\n",
       "    <tr>\n",
       "      <th>50-54</th>\n",
       "      <td>5.52</td>\n",
       "    </tr>\n",
       "    <tr>\n",
       "      <th>18-21</th>\n",
       "      <td>5.40</td>\n",
       "    </tr>\n",
       "    <tr>\n",
       "      <th>55-59</th>\n",
       "      <td>5.28</td>\n",
       "    </tr>\n",
       "    <tr>\n",
       "      <th>60-69</th>\n",
       "      <td>4.20</td>\n",
       "    </tr>\n",
       "    <tr>\n",
       "      <th>70+</th>\n",
       "      <td>0.96</td>\n",
       "    </tr>\n",
       "  </tbody>\n",
       "</table>\n",
       "</div>"
      ],
      "text/plain": [
       "          Q2\n",
       "25-29  16.69\n",
       "30-34  16.21\n",
       "35-39  15.73\n",
       "40-44  12.00\n",
       "22-24   9.72\n",
       "45-49   8.28\n",
       "50-54   5.52\n",
       "18-21   5.40\n",
       "55-59   5.28\n",
       "60-69   4.20\n",
       "70+     0.96"
      ]
     },
     "execution_count": 6,
     "metadata": {},
     "output_type": "execute_result"
    }
   ],
   "source": [
    "Q2 = pd.DataFrame(dadosB[\"Q2\"].value_counts(normalize = True)*100).round(2).sort_values(by = \"Q2\",ascending=False)\n",
    "Q2"
   ]
  },
  {
   "cell_type": "code",
   "execution_count": 7,
   "id": "515ab6ef",
   "metadata": {},
   "outputs": [],
   "source": [
    "# Q3"
   ]
  },
  {
   "cell_type": "code",
   "execution_count": 8,
   "id": "ded915f8",
   "metadata": {},
   "outputs": [
    {
     "data": {
      "text/plain": [
       "array(['Man', 'Woman', 'Prefer to self-describe', 'Prefer not to say',\n",
       "       'Nonbinary'], dtype=object)"
      ]
     },
     "execution_count": 8,
     "metadata": {},
     "output_type": "execute_result"
    }
   ],
   "source": [
    "dadosB.Q3.unique()"
   ]
  },
  {
   "cell_type": "code",
   "execution_count": 9,
   "id": "c7353d4a",
   "metadata": {},
   "outputs": [
    {
     "data": {
      "text/html": [
       "<div>\n",
       "<style scoped>\n",
       "    .dataframe tbody tr th:only-of-type {\n",
       "        vertical-align: middle;\n",
       "    }\n",
       "\n",
       "    .dataframe tbody tr th {\n",
       "        vertical-align: top;\n",
       "    }\n",
       "\n",
       "    .dataframe thead th {\n",
       "        text-align: right;\n",
       "    }\n",
       "</style>\n",
       "<table border=\"1\" class=\"dataframe\">\n",
       "  <thead>\n",
       "    <tr style=\"text-align: right;\">\n",
       "      <th></th>\n",
       "      <th>Q3</th>\n",
       "    </tr>\n",
       "  </thead>\n",
       "  <tbody>\n",
       "    <tr>\n",
       "      <th>Man</th>\n",
       "      <td>84.75</td>\n",
       "    </tr>\n",
       "    <tr>\n",
       "      <th>Woman</th>\n",
       "      <td>14.17</td>\n",
       "    </tr>\n",
       "    <tr>\n",
       "      <th>Prefer not to say</th>\n",
       "      <td>0.72</td>\n",
       "    </tr>\n",
       "    <tr>\n",
       "      <th>Nonbinary</th>\n",
       "      <td>0.24</td>\n",
       "    </tr>\n",
       "    <tr>\n",
       "      <th>Prefer to self-describe</th>\n",
       "      <td>0.12</td>\n",
       "    </tr>\n",
       "  </tbody>\n",
       "</table>\n",
       "</div>"
      ],
      "text/plain": [
       "                            Q3\n",
       "Man                      84.75\n",
       "Woman                    14.17\n",
       "Prefer not to say         0.72\n",
       "Nonbinary                 0.24\n",
       "Prefer to self-describe   0.12"
      ]
     },
     "execution_count": 9,
     "metadata": {},
     "output_type": "execute_result"
    }
   ],
   "source": [
    "Q3 = pd.DataFrame(dadosB[\"Q3\"].value_counts(\n",
    "    normalize = True)*100).round(2).sort_values(by = \"Q3\",ascending=False)\n",
    "Q3"
   ]
  },
  {
   "cell_type": "code",
   "execution_count": 10,
   "id": "99738763",
   "metadata": {},
   "outputs": [
    {
     "data": {
      "text/plain": [
       "'Are you currently a student? (high school, university, or graduate)'"
      ]
     },
     "execution_count": 10,
     "metadata": {},
     "output_type": "execute_result"
    }
   ],
   "source": [
    "dados.Q5[0]"
   ]
  },
  {
   "cell_type": "code",
   "execution_count": 11,
   "id": "8ea5c920",
   "metadata": {},
   "outputs": [
    {
     "data": {
      "text/html": [
       "<div>\n",
       "<style scoped>\n",
       "    .dataframe tbody tr th:only-of-type {\n",
       "        vertical-align: middle;\n",
       "    }\n",
       "\n",
       "    .dataframe tbody tr th {\n",
       "        vertical-align: top;\n",
       "    }\n",
       "\n",
       "    .dataframe thead th {\n",
       "        text-align: right;\n",
       "    }\n",
       "</style>\n",
       "<table border=\"1\" class=\"dataframe\">\n",
       "  <thead>\n",
       "    <tr style=\"text-align: right;\">\n",
       "      <th></th>\n",
       "      <th>Q5</th>\n",
       "    </tr>\n",
       "  </thead>\n",
       "  <tbody>\n",
       "    <tr>\n",
       "      <th>Yes</th>\n",
       "      <td>52.46</td>\n",
       "    </tr>\n",
       "    <tr>\n",
       "      <th>No</th>\n",
       "      <td>47.54</td>\n",
       "    </tr>\n",
       "  </tbody>\n",
       "</table>\n",
       "</div>"
      ],
      "text/plain": [
       "        Q5\n",
       "Yes  52.46\n",
       "No   47.54"
      ]
     },
     "execution_count": 11,
     "metadata": {},
     "output_type": "execute_result"
    }
   ],
   "source": [
    "Q5 = pd.DataFrame(dadosB[\"Q5\"].value_counts(\n",
    "    normalize = True)*100).round(2).sort_values(by = \"Q5\",ascending=False)\n",
    "Q5"
   ]
  },
  {
   "cell_type": "code",
   "execution_count": 12,
   "id": "9401ff53",
   "metadata": {},
   "outputs": [
    {
     "data": {
      "text/plain": [
       "'On which platforms have you begun or completed data science courses? (Select all that apply) - Selected Choice - Other'"
      ]
     },
     "execution_count": 12,
     "metadata": {},
     "output_type": "execute_result"
    }
   ],
   "source": [
    "dados.Q6_12[0]"
   ]
  },
  {
   "cell_type": "code",
   "execution_count": 13,
   "id": "4859f812",
   "metadata": {},
   "outputs": [
    {
     "data": {
      "text/plain": [
       "Q6_1     324\n",
       "Q6_2     111\n",
       "Q6_3     258\n",
       "Q6_4     120\n",
       "Q6_5      25\n",
       "Q6_6     106\n",
       "Q6_7     355\n",
       "Q6_8     101\n",
       "Q6_9      75\n",
       "Q6_10    259\n",
       "Q6_11     74\n",
       "Q6_12    209\n",
       "dtype: int64"
      ]
     },
     "execution_count": 13,
     "metadata": {},
     "output_type": "execute_result"
    }
   ],
   "source": [
    "Q6 = 833 - dadosB[[\"Q6_\" + str(i) for i in range(1,13) ]].isna().sum() \n",
    "Q6"
   ]
  },
  {
   "cell_type": "code",
   "execution_count": 14,
   "id": "39d24f34",
   "metadata": {},
   "outputs": [],
   "source": [
    "plataformas = []\n",
    "for i in Q6.index:\n",
    "    plataformas.append( dados[i].unique()[-1])\n",
    "plataformas[-1] = dados[Q6.index[-1]].unique()[1]"
   ]
  },
  {
   "cell_type": "code",
   "execution_count": 15,
   "id": "72b145cb",
   "metadata": {},
   "outputs": [
    {
     "data": {
      "text/plain": [
       "['Coursera',\n",
       " 'edX',\n",
       " 'Kaggle Learn Courses',\n",
       " 'DataCamp',\n",
       " 'Fast.ai',\n",
       " 'Udacity',\n",
       " 'Udemy',\n",
       " 'LinkedIn Learning',\n",
       " 'Cloud-Certification',\n",
       " 'University Courses',\n",
       " 'None',\n",
       " 'Other']"
      ]
     },
     "execution_count": 15,
     "metadata": {},
     "output_type": "execute_result"
    }
   ],
   "source": [
    "plataformas\n",
    "plataformas[8] = 'Cloud-Certification'\n",
    "plataformas[9] = 'University Courses'\n",
    "plataformas"
   ]
  },
  {
   "cell_type": "code",
   "execution_count": 16,
   "id": "6f8fd833",
   "metadata": {},
   "outputs": [
    {
     "data": {
      "text/plain": [
       "Coursera                324\n",
       "edX                     111\n",
       "Kaggle Learn Courses    258\n",
       "DataCamp                120\n",
       "Fast.ai                  25\n",
       "Udacity                 106\n",
       "Udemy                   355\n",
       "LinkedIn Learning       101\n",
       "Cloud-Certification      75\n",
       "University Courses      259\n",
       "None                     74\n",
       "Other                   209\n",
       "dtype: int64"
      ]
     },
     "execution_count": 16,
     "metadata": {},
     "output_type": "execute_result"
    }
   ],
   "source": [
    "Q6.index = plataformas\n",
    "Q6"
   ]
  },
  {
   "cell_type": "code",
   "execution_count": 17,
   "id": "4bcc2481",
   "metadata": {},
   "outputs": [
    {
     "data": {
      "text/plain": [
       "'What products or platforms did you find to be most helpful when you first started studying data science?  (Select all that apply) - Selected Choice - University courses'"
      ]
     },
     "execution_count": 17,
     "metadata": {},
     "output_type": "execute_result"
    }
   ],
   "source": [
    "dados.Q7_1[0]"
   ]
  },
  {
   "cell_type": "code",
   "execution_count": 18,
   "id": "dc0ea75a",
   "metadata": {},
   "outputs": [
    {
     "data": {
      "text/plain": [
       "'University courses'"
      ]
     },
     "execution_count": 18,
     "metadata": {},
     "output_type": "execute_result"
    }
   ],
   "source": [
    "Q7 = organizador('Q7_', 8)\n",
    "dados[Q7.index[0]].unique()[-1]"
   ]
  },
  {
   "cell_type": "code",
   "execution_count": 19,
   "id": "2a429978",
   "metadata": {},
   "outputs": [
    {
     "data": {
      "text/plain": [
       "['University courses',\n",
       " 'Online courses (Coursera, EdX, etc)',\n",
       " 'Social media platforms (Reddit, Twitter, etc)',\n",
       " 'Video platforms (YouTube, Twitch, etc)',\n",
       " 'Kaggle (notebooks, competitions, etc)',\n",
       " 'None / I do not study data science',\n",
       " 'Other']"
      ]
     },
     "execution_count": 19,
     "metadata": {},
     "output_type": "execute_result"
    }
   ],
   "source": [
    "plataformas = []\n",
    "for i in Q7.index:\n",
    "    plataformas.append( dados[i].unique()[-1])\n",
    "plataformas"
   ]
  },
  {
   "cell_type": "code",
   "execution_count": 20,
   "id": "b13248b8",
   "metadata": {},
   "outputs": [
    {
     "name": "stdout",
     "output_type": "stream",
     "text": [
      "University courses\n",
      "MUde o nome:University courses\n",
      "Online courses (Coursera, EdX, etc)\n",
      "MUde o nome:Online courses\n",
      "Social media platforms (Reddit, Twitter, etc)\n",
      "MUde o nome:Social media platforms\n",
      "Video platforms (YouTube, Twitch, etc)\n",
      "MUde o nome:Video platforms\n",
      "Kaggle (notebooks, competitions, etc)\n",
      "MUde o nome:Kaggle\n",
      "None / I do not study data science\n",
      "MUde o nome:None\n",
      "Other\n",
      "MUde o nome:Other\n"
     ]
    }
   ],
   "source": [
    "plataformas = altera_nomes(plataformas)"
   ]
  },
  {
   "cell_type": "code",
   "execution_count": 21,
   "id": "7c8fb7eb",
   "metadata": {},
   "outputs": [
    {
     "data": {
      "text/plain": [
       "University courses        261\n",
       "Online courses            547\n",
       "Social media platforms    107\n",
       "Video platforms           492\n",
       "Kaggle                    474\n",
       "None                       26\n",
       "Other                      66\n",
       "dtype: int64"
      ]
     },
     "execution_count": 21,
     "metadata": {},
     "output_type": "execute_result"
    }
   ],
   "source": [
    "Q7.index = plataformas\n",
    "Q7"
   ]
  },
  {
   "cell_type": "code",
   "execution_count": 22,
   "id": "cb1fa6a4",
   "metadata": {},
   "outputs": [
    {
     "data": {
      "text/html": [
       "<div>\n",
       "<style scoped>\n",
       "    .dataframe tbody tr th:only-of-type {\n",
       "        vertical-align: middle;\n",
       "    }\n",
       "\n",
       "    .dataframe tbody tr th {\n",
       "        vertical-align: top;\n",
       "    }\n",
       "\n",
       "    .dataframe thead th {\n",
       "        text-align: right;\n",
       "    }\n",
       "</style>\n",
       "<table border=\"1\" class=\"dataframe\">\n",
       "  <thead>\n",
       "    <tr style=\"text-align: right;\">\n",
       "      <th></th>\n",
       "      <th>Q8</th>\n",
       "    </tr>\n",
       "  </thead>\n",
       "  <tbody>\n",
       "    <tr>\n",
       "      <th>Master’s degree</th>\n",
       "      <td>32.48</td>\n",
       "    </tr>\n",
       "    <tr>\n",
       "      <th>Bachelor’s degree</th>\n",
       "      <td>31.27</td>\n",
       "    </tr>\n",
       "    <tr>\n",
       "      <th>Doctoral degree</th>\n",
       "      <td>13.50</td>\n",
       "    </tr>\n",
       "    <tr>\n",
       "      <th>Some college/university study without earning a bachelor’s degree</th>\n",
       "      <td>9.73</td>\n",
       "    </tr>\n",
       "    <tr>\n",
       "      <th>I prefer not to answer</th>\n",
       "      <td>5.35</td>\n",
       "    </tr>\n",
       "    <tr>\n",
       "      <th>No formal education past high school</th>\n",
       "      <td>3.89</td>\n",
       "    </tr>\n",
       "    <tr>\n",
       "      <th>Professional doctorate</th>\n",
       "      <td>3.77</td>\n",
       "    </tr>\n",
       "  </tbody>\n",
       "</table>\n",
       "</div>"
      ],
      "text/plain": [
       "                                                       Q8\n",
       "Master’s degree                                     32.48\n",
       "Bachelor’s degree                                   31.27\n",
       "Doctoral degree                                     13.50\n",
       "Some college/university study without earning a...   9.73\n",
       "I prefer not to answer                               5.35\n",
       "No formal education past high school                 3.89\n",
       "Professional doctorate                               3.77"
      ]
     },
     "execution_count": 22,
     "metadata": {},
     "output_type": "execute_result"
    }
   ],
   "source": [
    "Q8 = pd.DataFrame(dadosB[\"Q8\"].value_counts(\n",
    "    normalize = True)*100).round(2).sort_values(by = \"Q8\",ascending=False)\n",
    "Q8"
   ]
  },
  {
   "cell_type": "code",
   "execution_count": 23,
   "id": "4f3bc60a",
   "metadata": {},
   "outputs": [],
   "source": [
    "plataformas = list(Q8.index)\n",
    "plataformas[3] = 'College without degree'\n",
    "Q8.index = plataformas"
   ]
  },
  {
   "cell_type": "code",
   "execution_count": 24,
   "id": "56c22881",
   "metadata": {},
   "outputs": [
    {
     "data": {
      "text/html": [
       "<div>\n",
       "<style scoped>\n",
       "    .dataframe tbody tr th:only-of-type {\n",
       "        vertical-align: middle;\n",
       "    }\n",
       "\n",
       "    .dataframe tbody tr th {\n",
       "        vertical-align: top;\n",
       "    }\n",
       "\n",
       "    .dataframe thead th {\n",
       "        text-align: right;\n",
       "    }\n",
       "</style>\n",
       "<table border=\"1\" class=\"dataframe\">\n",
       "  <thead>\n",
       "    <tr style=\"text-align: right;\">\n",
       "      <th></th>\n",
       "      <th>Q8</th>\n",
       "    </tr>\n",
       "  </thead>\n",
       "  <tbody>\n",
       "    <tr>\n",
       "      <th>Master’s degree</th>\n",
       "      <td>32.48</td>\n",
       "    </tr>\n",
       "    <tr>\n",
       "      <th>Bachelor’s degree</th>\n",
       "      <td>31.27</td>\n",
       "    </tr>\n",
       "    <tr>\n",
       "      <th>Doctoral degree</th>\n",
       "      <td>13.50</td>\n",
       "    </tr>\n",
       "    <tr>\n",
       "      <th>College without degree</th>\n",
       "      <td>9.73</td>\n",
       "    </tr>\n",
       "    <tr>\n",
       "      <th>I prefer not to answer</th>\n",
       "      <td>5.35</td>\n",
       "    </tr>\n",
       "    <tr>\n",
       "      <th>No formal education past high school</th>\n",
       "      <td>3.89</td>\n",
       "    </tr>\n",
       "    <tr>\n",
       "      <th>Professional doctorate</th>\n",
       "      <td>3.77</td>\n",
       "    </tr>\n",
       "  </tbody>\n",
       "</table>\n",
       "</div>"
      ],
      "text/plain": [
       "                                         Q8\n",
       "Master’s degree                       32.48\n",
       "Bachelor’s degree                     31.27\n",
       "Doctoral degree                       13.50\n",
       "College without degree                 9.73\n",
       "I prefer not to answer                 5.35\n",
       "No formal education past high school   3.89\n",
       "Professional doctorate                 3.77"
      ]
     },
     "execution_count": 24,
     "metadata": {},
     "output_type": "execute_result"
    }
   ],
   "source": [
    "Q8"
   ]
  },
  {
   "cell_type": "markdown",
   "id": "505027ed",
   "metadata": {},
   "source": [
    "# Análise de Dados"
   ]
  },
  {
   "cell_type": "code",
   "execution_count": 27,
   "id": "0fe053c4",
   "metadata": {},
   "outputs": [
    {
     "data": {
      "text/html": [
       "<div>\n",
       "<style scoped>\n",
       "    .dataframe tbody tr th:only-of-type {\n",
       "        vertical-align: middle;\n",
       "    }\n",
       "\n",
       "    .dataframe tbody tr th {\n",
       "        vertical-align: top;\n",
       "    }\n",
       "\n",
       "    .dataframe thead th {\n",
       "        text-align: right;\n",
       "    }\n",
       "</style>\n",
       "<table border=\"1\" class=\"dataframe\">\n",
       "  <thead>\n",
       "    <tr style=\"text-align: right;\">\n",
       "      <th></th>\n",
       "      <th>Q2</th>\n",
       "    </tr>\n",
       "  </thead>\n",
       "  <tbody>\n",
       "    <tr>\n",
       "      <th>25-29</th>\n",
       "      <td>16.69</td>\n",
       "    </tr>\n",
       "    <tr>\n",
       "      <th>30-34</th>\n",
       "      <td>16.21</td>\n",
       "    </tr>\n",
       "    <tr>\n",
       "      <th>35-39</th>\n",
       "      <td>15.73</td>\n",
       "    </tr>\n",
       "    <tr>\n",
       "      <th>40-44</th>\n",
       "      <td>12.00</td>\n",
       "    </tr>\n",
       "    <tr>\n",
       "      <th>22-24</th>\n",
       "      <td>9.72</td>\n",
       "    </tr>\n",
       "    <tr>\n",
       "      <th>45-49</th>\n",
       "      <td>8.28</td>\n",
       "    </tr>\n",
       "    <tr>\n",
       "      <th>50-54</th>\n",
       "      <td>5.52</td>\n",
       "    </tr>\n",
       "    <tr>\n",
       "      <th>18-21</th>\n",
       "      <td>5.40</td>\n",
       "    </tr>\n",
       "    <tr>\n",
       "      <th>55-59</th>\n",
       "      <td>5.28</td>\n",
       "    </tr>\n",
       "    <tr>\n",
       "      <th>60-69</th>\n",
       "      <td>4.20</td>\n",
       "    </tr>\n",
       "    <tr>\n",
       "      <th>70+</th>\n",
       "      <td>0.96</td>\n",
       "    </tr>\n",
       "  </tbody>\n",
       "</table>\n",
       "</div>"
      ],
      "text/plain": [
       "          Q2\n",
       "25-29  16.69\n",
       "30-34  16.21\n",
       "35-39  15.73\n",
       "40-44  12.00\n",
       "22-24   9.72\n",
       "45-49   8.28\n",
       "50-54   5.52\n",
       "18-21   5.40\n",
       "55-59   5.28\n",
       "60-69   4.20\n",
       "70+     0.96"
      ]
     },
     "execution_count": 27,
     "metadata": {},
     "output_type": "execute_result"
    }
   ],
   "source": [
    "Q2"
   ]
  },
  {
   "cell_type": "code",
   "execution_count": 29,
   "id": "7de6db8e",
   "metadata": {},
   "outputs": [
    {
     "name": "stdout",
     "output_type": "stream",
     "text": [
      "    index     Q2\n",
      "0   25-29  16.69\n",
      "1   30-34  16.21\n",
      "2   35-39  15.73\n",
      "3   40-44  12.00\n",
      "4   22-24   9.72\n",
      "5   45-49   8.28\n",
      "6   50-54   5.52\n",
      "7   18-21   5.40\n",
      "8   55-59   5.28\n",
      "9   60-69   4.20\n",
      "10    70+   0.96\n"
     ]
    },
    {
     "data": {
      "image/png": "[encoded data removed]",
      "text/plain": [
       "<Figure size 864x360 with 1 Axes>"
      ]
     },
     "metadata": {
      "needs_background": "light"
     },
     "output_type": "display_data"
    }
   ],
   "source": [
    "graf(Q2, 3,[5, 15.85,'50% dos entrevistados tem \\n entre 25 e 40 anos'],'Idades','Porcentagem',\n",
    "     'Porcentagem de Idades','Q2','Idades.png')\n"
   ]
  },
  {
   "cell_type": "code",
   "execution_count": null,
   "id": "34d197ed",
   "metadata": {},
   "outputs": [],
   "source": [
    "Q3"
   ]
  },
  {
   "cell_type": "code",
   "execution_count": null,
   "id": "0970ba2f",
   "metadata": {},
   "outputs": [],
   "source": [
    "graf(Q3, 1,[1,70,'84% São homens'],'Gênero','Porcentagem',\n",
    "     'Porcentagem de Gêneros','Q3','genero.png')"
   ]
  },
  {
   "cell_type": "code",
   "execution_count": null,
   "id": "669028dd",
   "metadata": {},
   "outputs": [],
   "source": [
    "graf(Q5, 1,[0.5,52,'52% É estudante'],'É estudante ou Não','Porcentagem',\n",
    "     'É estudante?','Q5','estudante.png')"
   ]
  },
  {
   "cell_type": "code",
   "execution_count": 73,
   "id": "db1bb775",
   "metadata": {},
   "outputs": [
    {
     "name": "stdout",
     "output_type": "stream",
     "text": [
      "Udemy\n",
      "MUde o nome:0\n",
      "Coursera\n",
      "MUde o nome:0\n",
      "University Courses (resulting in a university degree)\n",
      "MUde o nome:University Courses\n",
      "Kaggle Learn Courses\n",
      "MUde o nome:Kaggle Courses\n",
      "Other\n",
      "MUde o nome:Other\n",
      "DataCamp\n",
      "MUde o nome:0\n",
      "edX\n",
      "MUde o nome:0\n",
      "Udacity\n",
      "MUde o nome:0\n",
      "LinkedIn Learning\n",
      "MUde o nome:0\n",
      "Cloud-certification programs (direct from AWS, Azure, GCP, or similar)\n",
      "MUde o nome:Cloud-certification\n",
      "None\n",
      "MUde o nome:0\n",
      "Fast.ai\n",
      "MUde o nome:0\n"
     ]
    },
    {
     "data": {
      "image/png": "[encoded data removed]",
      "text/plain": [
       "<Figure size 864x360 with 1 Axes>"
      ]
     },
     "metadata": {
      "needs_background": "light"
     },
     "output_type": "display_data"
    }
   ],
   "source": [
    "multiplas_colunas('Q6',4,\n",
    "     [1.5,320,'Udemy, Cousera, Cursos de Universidade e\\n Cursos do Kaggle São os principais primeiros contatos'],\n",
    "     'Plataformas','Contagem ',\n",
    "     'Plataformas de Primeiro Contato',0,'CursoInicial.png', True)"
   ]
  },
  {
   "cell_type": "code",
   "execution_count": 74,
   "id": "8f0bbc42",
   "metadata": {},
   "outputs": [
    {
     "data": {
      "text/plain": [
       "University courses        261\n",
       "Online courses            547\n",
       "Social media platforms    107\n",
       "Video platforms           492\n",
       "Kaggle                    474\n",
       "None                       26\n",
       "Other                      66\n",
       "dtype: int64"
      ]
     },
     "execution_count": 74,
     "metadata": {},
     "output_type": "execute_result"
    }
   ],
   "source": [
    "Q7"
   ]
  },
  {
   "cell_type": "code",
   "execution_count": 77,
   "id": "60534904",
   "metadata": {},
   "outputs": [
    {
     "data": {
      "text/plain": [
       "'What products or platforms did you find to be most helpful when you first started studying data science?  (Select all that apply) - Selected Choice - University courses'"
      ]
     },
     "execution_count": 77,
     "metadata": {},
     "output_type": "execute_result"
    }
   ],
   "source": [
    "dados.Q7_1[0]"
   ]
  },
  {
   "cell_type": "code",
   "execution_count": 82,
   "id": "01bf73b7",
   "metadata": {},
   "outputs": [
    {
     "name": "stdout",
     "output_type": "stream",
     "text": [
      "Online courses (Coursera, EdX, etc)\n",
      "MUde o nome:Online courses\n",
      "Video platforms (YouTube, Twitch, etc)\n",
      "MUde o nome:Video platforms\n",
      "Kaggle (notebooks, competitions, etc)\n",
      "MUde o nome:Kaggle\n",
      "University courses\n",
      "MUde o nome:0\n",
      "Social media platforms (Reddit, Twitter, etc)\n",
      "MUde o nome:Social media\n",
      "Other\n",
      "MUde o nome:0\n",
      "None / I do not study data science\n",
      "MUde o nome:None\n"
     ]
    },
    {
     "data": {
      "image/png": "[encoded data removed]",
      "text/plain": [
       "<Figure size 864x360 with 1 Axes>"
      ]
     },
     "metadata": {
      "needs_background": "light"
     },
     "output_type": "display_data"
    }
   ],
   "source": [
    "multiplas_colunas('Q7',3,\n",
    "     [2.5,500,'Cursos Online, Plataformas de Vídeo e Kaggle \\n são as melhores formas de começar a estudar'],\n",
    "     'Plataformas','Contagem ',\n",
    "     'Melhores Caminhos para primeiros Estudos',0,'MelhoresPlataformas.png', True)"
   ]
  },
  {
   "cell_type": "code",
   "execution_count": 62,
   "id": "2936a222",
   "metadata": {},
   "outputs": [],
   "source": [
    "data_warehouse = [col for col in dadosB.columns if col.startswith('Q6')]\n",
    "column_name = dadosB[data_warehouse]\n",
    "final = column_name.melt(var_name = 'title', value_vars = column_name)\n",
    "final.drop(['title'], axis=1, inplace = True)\n",
    "final.dropna(inplace = True)\n",
    "final.groupby(['value']).size().reset_index().rename(\n",
    "    columns={'value': 'valor', 0 : 'Contagem'}).sort_values(by = 'Contagem', ascending=False)"
   ]
  },
  {
   "cell_type": "code",
   "execution_count": 65,
   "id": "c2958acf",
   "metadata": {},
   "outputs": [
    {
     "data": {
      "text/html": [
       "<div>\n",
       "<style scoped>\n",
       "    .dataframe tbody tr th:only-of-type {\n",
       "        vertical-align: middle;\n",
       "    }\n",
       "\n",
       "    .dataframe tbody tr th {\n",
       "        vertical-align: top;\n",
       "    }\n",
       "\n",
       "    .dataframe thead th {\n",
       "        text-align: right;\n",
       "    }\n",
       "</style>\n",
       "<table border=\"1\" class=\"dataframe\">\n",
       "  <thead>\n",
       "    <tr style=\"text-align: right;\">\n",
       "      <th></th>\n",
       "      <th>valor</th>\n",
       "      <th>Contagem</th>\n",
       "    </tr>\n",
       "  </thead>\n",
       "  <tbody>\n",
       "    <tr>\n",
       "      <th>9</th>\n",
       "      <td>Udemy</td>\n",
       "      <td>355</td>\n",
       "    </tr>\n",
       "    <tr>\n",
       "      <th>1</th>\n",
       "      <td>Coursera</td>\n",
       "      <td>324</td>\n",
       "    </tr>\n",
       "    <tr>\n",
       "      <th>10</th>\n",
       "      <td>University Courses (resulting in a university ...</td>\n",
       "      <td>259</td>\n",
       "    </tr>\n",
       "    <tr>\n",
       "      <th>4</th>\n",
       "      <td>Kaggle Learn Courses</td>\n",
       "      <td>258</td>\n",
       "    </tr>\n",
       "    <tr>\n",
       "      <th>7</th>\n",
       "      <td>Other</td>\n",
       "      <td>209</td>\n",
       "    </tr>\n",
       "    <tr>\n",
       "      <th>2</th>\n",
       "      <td>DataCamp</td>\n",
       "      <td>120</td>\n",
       "    </tr>\n",
       "    <tr>\n",
       "      <th>11</th>\n",
       "      <td>edX</td>\n",
       "      <td>111</td>\n",
       "    </tr>\n",
       "    <tr>\n",
       "      <th>8</th>\n",
       "      <td>Udacity</td>\n",
       "      <td>106</td>\n",
       "    </tr>\n",
       "    <tr>\n",
       "      <th>5</th>\n",
       "      <td>LinkedIn Learning</td>\n",
       "      <td>101</td>\n",
       "    </tr>\n",
       "    <tr>\n",
       "      <th>0</th>\n",
       "      <td>Cloud-certification programs (direct from AWS,...</td>\n",
       "      <td>75</td>\n",
       "    </tr>\n",
       "    <tr>\n",
       "      <th>6</th>\n",
       "      <td>None</td>\n",
       "      <td>74</td>\n",
       "    </tr>\n",
       "    <tr>\n",
       "      <th>3</th>\n",
       "      <td>Fast.ai</td>\n",
       "      <td>25</td>\n",
       "    </tr>\n",
       "  </tbody>\n",
       "</table>\n",
       "</div>"
      ],
      "text/plain": [
       "                                                valor  Contagem\n",
       "9                                               Udemy       355\n",
       "1                                            Coursera       324\n",
       "10  University Courses (resulting in a university ...       259\n",
       "4                                Kaggle Learn Courses       258\n",
       "7                                               Other       209\n",
       "2                                            DataCamp       120\n",
       "11                                                edX       111\n",
       "8                                             Udacity       106\n",
       "5                                   LinkedIn Learning       101\n",
       "0   Cloud-certification programs (direct from AWS,...        75\n",
       "6                                                None        74\n",
       "3                                             Fast.ai        25"
      ]
     },
     "execution_count": 65,
     "metadata": {},
     "output_type": "execute_result"
    }
   ],
   "source": [
    "final.groupby(['value']).size().reset_index().rename(\n",
    "    columns={'value': 'valor', 0 : 'Contagem'}).sort_values(by = 'Contagem', ascending=False)"
   ]
  },
  {
   "cell_type": "code",
   "execution_count": 56,
   "id": "ff5ddeb2",
   "metadata": {},
   "outputs": [
    {
     "data": {
      "text/plain": [
       "['Q6_1',\n",
       " 'Q6_2',\n",
       " 'Q6_3',\n",
       " 'Q6_4',\n",
       " 'Q6_5',\n",
       " 'Q6_6',\n",
       " 'Q6_7',\n",
       " 'Q6_8',\n",
       " 'Q6_9',\n",
       " 'Q6_10',\n",
       " 'Q6_11',\n",
       " 'Q6_12']"
      ]
     },
     "execution_count": 56,
     "metadata": {},
     "output_type": "execute_result"
    }
   ],
   "source": [
    "data_warehouse"
   ]
  },
  {
   "cell_type": "code",
   "execution_count": 58,
   "id": "7131c634",
   "metadata": {},
   "outputs": [
    {
     "data": {
      "text/html": [
       "<div>\n",
       "<style scoped>\n",
       "    .dataframe tbody tr th:only-of-type {\n",
       "        vertical-align: middle;\n",
       "    }\n",
       "\n",
       "    .dataframe tbody tr th {\n",
       "        vertical-align: top;\n",
       "    }\n",
       "\n",
       "    .dataframe thead th {\n",
       "        text-align: right;\n",
       "    }\n",
       "</style>\n",
       "<table border=\"1\" class=\"dataframe\">\n",
       "  <thead>\n",
       "    <tr style=\"text-align: right;\">\n",
       "      <th></th>\n",
       "      <th>value</th>\n",
       "    </tr>\n",
       "  </thead>\n",
       "  <tbody>\n",
       "    <tr>\n",
       "      <th>1</th>\n",
       "      <td>Other</td>\n",
       "    </tr>\n",
       "    <tr>\n",
       "      <th>6</th>\n",
       "      <td>Other</td>\n",
       "    </tr>\n",
       "    <tr>\n",
       "      <th>14</th>\n",
       "      <td>Other</td>\n",
       "    </tr>\n",
       "    <tr>\n",
       "      <th>15</th>\n",
       "      <td>Other</td>\n",
       "    </tr>\n",
       "    <tr>\n",
       "      <th>19</th>\n",
       "      <td>Other</td>\n",
       "    </tr>\n",
       "    <tr>\n",
       "      <th>...</th>\n",
       "      <td>...</td>\n",
       "    </tr>\n",
       "    <tr>\n",
       "      <th>808</th>\n",
       "      <td>Other</td>\n",
       "    </tr>\n",
       "    <tr>\n",
       "      <th>811</th>\n",
       "      <td>Other</td>\n",
       "    </tr>\n",
       "    <tr>\n",
       "      <th>824</th>\n",
       "      <td>Other</td>\n",
       "    </tr>\n",
       "    <tr>\n",
       "      <th>828</th>\n",
       "      <td>Other</td>\n",
       "    </tr>\n",
       "    <tr>\n",
       "      <th>830</th>\n",
       "      <td>Other</td>\n",
       "    </tr>\n",
       "  </tbody>\n",
       "</table>\n",
       "<p>209 rows × 1 columns</p>\n",
       "</div>"
      ],
      "text/plain": [
       "     value\n",
       "1    Other\n",
       "6    Other\n",
       "14   Other\n",
       "15   Other\n",
       "19   Other\n",
       "..     ...\n",
       "808  Other\n",
       "811  Other\n",
       "824  Other\n",
       "828  Other\n",
       "830  Other\n",
       "\n",
       "[209 rows x 1 columns]"
      ]
     },
     "execution_count": 58,
     "metadata": {},
     "output_type": "execute_result"
    }
   ],
   "source": []
  },
  {
   "cell_type": "code",
   "execution_count": null,
   "id": "2f5f3fc1",
   "metadata": {},
   "outputs": [],
   "source": []
  }
 ],
 "metadata": {
  "kernelspec": {
   "display_name": "Python 3 (ipykernel)",
   "language": "python",
   "name": "python3"
  },
  "language_info": {
   "codemirror_mode": {
    "name": "ipython",
    "version": 3
   },
   "file_extension": ".py",
   "mimetype": "text/x-python",
   "name": "python",
   "nbconvert_exporter": "python",
   "pygments_lexer": "ipython3",
   "version": "3.9.12"
  }
 },
 "nbformat": 4,
 "nbformat_minor": 5
}
